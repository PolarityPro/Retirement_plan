{
 "cells": [
  {
   "cell_type": "markdown",
   "id": "d6898797",
   "metadata": {},
   "source": [
    "# Retirement Plan to Calculate the Number of years to Retire"
   ]
  },
  {
   "cell_type": "markdown",
   "id": "1a02c7df",
   "metadata": {},
   "source": [
    "In order build this model, we first import the numpy and numpy_financial modules."
   ]
  },
  {
   "cell_type": "code",
   "execution_count": 1,
   "id": "b55900cc",
   "metadata": {},
   "outputs": [],
   "source": [
    "import numpy as np\n",
    "import numpy_financial as npf"
   ]
  },
  {
   "cell_type": "markdown",
   "id": "281cbb43",
   "metadata": {},
   "source": [
    "## Inputs are defined here:"
   ]
  },
  {
   "cell_type": "markdown",
   "id": "25fb9bfa",
   "metadata": {},
   "source": [
    "Now, we define the inputs for the years_to_retirement function, including the percentage of income saved, income, 2 expected prootion years, expected increment due to promotion, target retirement expenses, current savings, expected rate of return, inflation rate, and retirement years as inputs. Here's a breakdown of the inputs:\n",
    "\n",
    "\n",
    "percent_saved: The percentage of income that is saved each year.  \n",
    "current_income: The initial income.  \n",
    "promotion_years: The number of years until the first expected promotion.  \n",
    "promotion_percent: The expected percentage increase in income due to the first promotion.  \n",
    "promotion_years_2: The number of years until the second expected promotion.  \n",
    "promotion_percent_2: The expected percentage increase in income due to the second promotion.  \n",
    "target_expense: The target retirement expenses.  \n",
    "current_savings: The current retirement savings.  \n",
    "expected_return: The expected rate of return on investments.  \n",
    "inflation_rate: The expected inflation rate.  \n",
    "retirement_years: The number of years in retirement.  "
   ]
  },
  {
   "cell_type": "code",
   "execution_count": 2,
   "id": "93cc7a31",
   "metadata": {},
   "outputs": [],
   "source": [
    "percent_saved = 0.2\n",
    "current_income = 1000000\n",
    "promotion_years = 5\n",
    "promotion_percent = 0.05\n",
    "promotion_years_2 = 2\n",
    "promotion_percent_2 = 0.1\n",
    "target_expense = 700000\n",
    "current_savings = 100000\n",
    "expected_return = 0.06\n",
    "inflation_rate = 0.03\n",
    "retirement_years = 30"
   ]
  },
  {
   "cell_type": "markdown",
   "id": "dfcd8bc1",
   "metadata": {},
   "source": [
    "The model first calculates the annual contribution based on the current income and the percentage saved each year."
   ]
  },
  {
   "cell_type": "code",
   "execution_count": 3,
   "id": "9d77d3ed",
   "metadata": {},
   "outputs": [
    {
     "data": {
      "text/plain": [
       "200000.0"
      ]
     },
     "execution_count": 3,
     "metadata": {},
     "output_type": "execute_result"
    }
   ],
   "source": [
    "# Calculate the annual contribution\n",
    "annual_contribution = current_income * percent_saved\n",
    "annual_contribution"
   ]
  },
  {
   "cell_type": "markdown",
   "id": "40dbba83",
   "metadata": {},
   "source": [
    "Now we will calculate the future value of the retirement expenses and the current savings, taking into account inflation and the expected rate of return on investments. These values are used to determine the total retirement savings required."
   ]
  },
  {
   "cell_type": "code",
   "execution_count": 4,
   "id": "5ca219a4",
   "metadata": {},
   "outputs": [
    {
     "data": {
      "text/plain": [
       "'18085070.09'"
      ]
     },
     "execution_count": 4,
     "metadata": {},
     "output_type": "execute_result"
    }
   ],
   "source": [
    " # Calculate the future value of the retirement expenses\n",
    "future_value_target_expense = npf.fv(\n",
    "    rate=inflation_rate,\n",
    "    nper=retirement_years,\n",
    "    pmt=0,\n",
    "    pv=-target_expense)\n",
    "\n",
    "# Calculate the future value of the current savings\n",
    "future_value_current_savings = npf.fv(\n",
    "    rate=expected_return,\n",
    "    nper=retirement_years,\n",
    "    pmt=-annual_contribution,\n",
    "    pv=-current_savings)\n",
    "\n",
    "# Calculate the total retirement savings required\n",
    "total_savings_required = future_value_target_expense + future_value_current_savings\n",
    "f\"{total_savings_required:.2f}\""
   ]
  },
  {
   "cell_type": "markdown",
   "id": "45b3a239",
   "metadata": {},
   "source": [
    "I have used the future value of the target retirement expenses because we want to account for the effects of inflation on the expenses.\n",
    "\n",
    "Inflation is the general increase in prices of goods and services over time, which means that the same amount of money will buy fewer goods and services in the future. When we plan for retirement, we need to take into account the effects of inflation on the expenses we expect to incur during retirement. The expenses that we are considering are future expenses i.e., expenses that we expect to incur in the future when we retire. Therefore, we need to calculate the future value of these expenses to account for the effects of inflation.\n",
    "\n",
    "The future value of an amount of money is the value of that amount of money at some point in the future, after it has earned interest at a specified rate of return. In our retirement planning model, we assume that the expenses will increase each year by the inflation rate, and we calculate the future value of the target expenses at the time of retirement based on this assumption. We then use this future value in our calculation of the total retirement savings required.\n",
    "\n",
    "By taking into account the effects of inflation on the target expenses, we can ensure that we are planning for a retirement that will allow us to maintain our desired standard of living, even as the cost of living increases over time."
   ]
  },
  {
   "cell_type": "markdown",
   "id": "2e432707",
   "metadata": {},
   "source": [
    "Next, the number of years until retirement is then calculated using the npf.nper() function from the numpy_financial library. This function takes the expected rate of return, the annual contribution, the current savings, and the total retirement savings required as inputs."
   ]
  },
  {
   "cell_type": "code",
   "execution_count": 5,
   "id": "ec87ae70",
   "metadata": {},
   "outputs": [
    {
     "data": {
      "text/plain": [
       "'31.42'"
      ]
     },
     "execution_count": 5,
     "metadata": {},
     "output_type": "execute_result"
    }
   ],
   "source": [
    "# Calculate the number of years to retirement\n",
    "years_to_retirement = npf.nper(\n",
    "    rate=expected_return,\n",
    "    pmt=-annual_contribution,\n",
    "    pv=-current_savings,\n",
    "    fv=total_savings_required)\n",
    "f\"{years_to_retirement:.2f}\""
   ]
  },
  {
   "cell_type": "markdown",
   "id": "787c39fd",
   "metadata": {},
   "source": [
    "The model can also used to account expected promotions by increasing the income and annual contribution accordingly. The updated income and annual contribution are then used to recalculate the number of years until retirement using npf.nper().\n",
    "\n",
    "For re-calculating the income on getting a promotion I have used for loop function which would run as and when the expected year of promotion occurs. So if I dont expect more than one promotion, I can simply enter the 'promotion_years_2' = None or promotion_percent_2 = 0. Either way, the model will take in account only the first promotion and not recalculate annual savings and years to reitrement for the second promotion.\n",
    "\n",
    "In the given Example I have assumed only two promotions over the life of the individual. However, such number can be increased by adding the required number of promotions as inputs. "
   ]
  },
  {
   "cell_type": "code",
   "execution_count": 6,
   "id": "bf4bf28f",
   "metadata": {},
   "outputs": [
    {
     "data": {
      "text/plain": [
       "'25.53'"
      ]
     },
     "execution_count": 6,
     "metadata": {},
     "output_type": "execute_result"
    }
   ],
   "source": [
    "# Calculate the new income after the first promotion\n",
    "for year in range(promotion_years):\n",
    "    current_income *= (1 + promotion_percent)\n",
    "\n",
    "# Calculate the new annual contribution after the first promotion\n",
    "annual_contribution = current_income * percent_saved\n",
    "\n",
    "# Calculate the new income after the second promotion\n",
    "for year in range(promotion_years_2):\n",
    "    current_income *= (1 + promotion_percent_2)\n",
    "\n",
    "# Calculate the new annual contribution after the second promotion\n",
    "annual_contribution = current_income * percent_saved\n",
    " \n",
    "# Recalculate the number of years to retirement with the new income\n",
    "new_years_to_retirement = npf.nper(\n",
    "    rate=expected_return,\n",
    "    pmt=-annual_contribution,\n",
    "    pv=-current_savings,\n",
    "    fv=total_savings_required)\n",
    "f\"{new_years_to_retirement:.2f}\"\n"
   ]
  },
  {
   "cell_type": "markdown",
   "id": "2c853a51",
   "metadata": {},
   "source": [
    "This is how the model can be used to calculate the years an individual is reuried to work until the retirement. This would help an individual to track his savings and and investment returns in order to acheive his retirement goals. By adjusting the inputs an individual can examine the outcome in different scenarios and take indormed investment decisions."
   ]
  }
 ],
 "metadata": {
  "kernelspec": {
   "display_name": "Python 3 (ipykernel)",
   "language": "python",
   "name": "python3"
  },
  "language_info": {
   "codemirror_mode": {
    "name": "ipython",
    "version": 3
   },
   "file_extension": ".py",
   "mimetype": "text/x-python",
   "name": "python",
   "nbconvert_exporter": "python",
   "pygments_lexer": "ipython3",
   "version": "3.9.13"
  }
 },
 "nbformat": 4,
 "nbformat_minor": 5
}
